{
  "cells": [
    {
      "cell_type": "code",
      "execution_count": 98,
      "metadata": {
        "id": "Z0yGksgOp91i"
      },
      "outputs": [],
      "source": [
        "import numpy as np\n",
        "import pandas as pd\n",
        "import matplotlib.pyplot as plt\n",
        "from sklearn.svm import SVC, SVR\n",
        "from sklearn.metrics import accuracy_score"
      ]
    },
    {
      "cell_type": "code",
      "execution_count": 99,
      "metadata": {
        "id": "7ZYQFbA0qMZ-"
      },
      "outputs": [],
      "source": [
        "# Load data\n",
        "x_train = np.load(\"./dataset/x_train.npy\")\n",
        "y_train = np.load(\"./dataset/y_train.npy\")\n",
        "x_test = np.load(\"./dataset/x_test.npy\")\n",
        "y_test = np.load(\"./dataset/y_test.npy\")"
      ]
    },
    {
      "cell_type": "code",
      "execution_count": 100,
      "metadata": {
        "colab": {
          "base_uri": "https://localhost:8080/"
        },
        "id": "u0ewnfh6qOoM",
        "outputId": "d3773b37-9eb0-4497-ac22-b4b929d0ced6"
      },
      "outputs": [
        {
          "name": "stdout",
          "output_type": "stream",
          "text": [
            "(7000, 300)\n",
            "(7000,)\n",
            "(3000, 300)\n"
          ]
        }
      ],
      "source": [
        "# 7000 data with 300 features\n",
        "print(x_train.shape)\n",
        "print(y_train.shape)\n",
        "print(x_test.shape)"
      ]
    },
    {
      "cell_type": "code",
      "execution_count": 101,
      "metadata": {
        "colab": {
          "base_uri": "https://localhost:8080/"
        },
        "id": "ryZdU0fdqTkb",
        "outputId": "6b8fa0b1-b488-4c3d-b120-b5e0a1db26d9"
      },
      "outputs": [
        {
          "name": "stdout",
          "output_type": "stream",
          "text": [
            "[0 1]\n"
          ]
        }
      ],
      "source": [
        "# It's a binary classification problem \n",
        "print(np.unique(y_train))"
      ]
    },
    {
      "attachments": {},
      "cell_type": "markdown",
      "metadata": {
        "id": "qy1aMJ7sqwwg"
      },
      "source": [
        "# Q1"
      ]
    },
    {
      "cell_type": "code",
      "execution_count": 102,
      "metadata": {
        "id": "TI26_jRbqVX3"
      },
      "outputs": [],
      "source": [
        "def cross_validation(x_train, y_train, k=5):\n",
        "    \n",
        "    # Do not modify the function name and always take 'x_train, y_train, k' as the inputs.\n",
        "\n",
        "    fold_size = int(x_train.shape[0]/k)\n",
        "    folds = np.zeros((k, fold_size), dtype=int)\n",
        "    fold_data = []\n",
        "    idx = np.arange(x_train.shape[0])\n",
        "    np.random.shuffle(idx)\n",
        "    for i in range(k):\n",
        "        for j in range(fold_size):\n",
        "            folds[i, j] = idx[i*fold_size + j]\n",
        "    for i in range(k):\n",
        "        test = folds[i]\n",
        "        train = []\n",
        "        for j in range(k):\n",
        "            if j != i:\n",
        "                for ix in folds[j]:\n",
        "                    train.append(ix)\n",
        "        train = np.array(train)\n",
        "        fold_data.append([train, test])\n",
        "    return fold_data"
      ]
    },
    {
      "cell_type": "code",
      "execution_count": 103,
      "metadata": {
        "id": "7jTma6saqf3E"
      },
      "outputs": [],
      "source": [
        "kfold_data = cross_validation(x_train, y_train, k=10)\n",
        "assert len(kfold_data) == 10 # should contain 10 fold of data\n",
        "assert len(kfold_data[0]) == 2 # each element should contain train fold and validation fold\n",
        "assert kfold_data[0][1].shape[0] == 700 # The number of data in each validation fold should equal to training data divieded by K"
      ]
    },
    {
      "attachments": {},
      "cell_type": "markdown",
      "metadata": {
        "id": "IccJcpN_q0Z0"
      },
      "source": [
        "# K-Fold Example"
      ]
    },
    {
      "cell_type": "code",
      "execution_count": 104,
      "metadata": {
        "id": "O_zT2TAzqjay"
      },
      "outputs": [
        {
          "name": "stdout",
          "output_type": "stream",
          "text": [
            "Split: 1, Training index: [ 0  1  2  3  4  5  6  7  8  9 10 11 12 14 15 16], Validation index: [13 17 18 19]\n",
            "Split: 2, Training index: [ 0  1  2  3  4  5  6  8 10 11 12 13 16 17 18 19], Validation index: [ 7  9 14 15]\n",
            "Split: 3, Training index: [ 0  2  4  7  8  9 10 11 12 13 14 15 16 17 18 19], Validation index: [1 3 5 6]\n",
            "Split: 4, Training index: [ 1  2  3  5  6  7  8  9 10 13 14 15 16 17 18 19], Validation index: [ 0  4 11 12]\n",
            "Split: 5, Training index: [ 0  1  3  4  5  6  7  9 11 12 13 14 15 17 18 19], Validation index: [ 2  8 10 16]\n"
          ]
        }
      ],
      "source": [
        "from sklearn.model_selection import KFold\n",
        "\n",
        "X = np.arange(20)\n",
        "\n",
        "kf = KFold(n_splits=5, shuffle=True)\n",
        "kfold_data= []\n",
        "for i, (train_index, val_index) in enumerate(kf.split(X)):\n",
        "    print(\"Split: %s, Training index: %s, Validation index: %s\" % (i+1, train_index, val_index))\n",
        "    kfold_data.append([train_index, val_index])"
      ]
    },
    {
      "cell_type": "code",
      "execution_count": 105,
      "metadata": {
        "id": "lYCTmie5qnow"
      },
      "outputs": [],
      "source": [
        "assert len(kfold_data) == 5 # should contain 5 fold of data\n",
        "assert len(kfold_data[0]) == 2 # each element should contains index of training fold and validation fold\n",
        "assert kfold_data[0][1].shape[0] == 4 # The number of data in each validation fold should equal to training data divieded by K"
      ]
    },
    {
      "attachments": {},
      "cell_type": "markdown",
      "metadata": {
        "id": "Gh-DQiNiq5v0"
      },
      "source": [
        "## Q2"
      ]
    },
    {
      "cell_type": "code",
      "execution_count": 106,
      "metadata": {
        "id": "31V1fW7Qq6la"
      },
      "outputs": [],
      "source": [
        "# (Example) Using SVC from sklearn\n",
        "\n",
        "clf = SVC(C=1.0, gamma=0.01, kernel='rbf')"
      ]
    },
    {
      "cell_type": "code",
      "execution_count": 107,
      "metadata": {
        "id": "VzBT0t6Yq_Dj"
      },
      "outputs": [
        {
          "name": "stdout",
          "output_type": "stream",
          "text": [
            "Finish 100.00%, max score: 0.99486\r"
          ]
        }
      ],
      "source": [
        "np.random.seed(7777)\n",
        "K = 5\n",
        "best_c, best_gamma = None, None\n",
        "C = np.array([0.05, 0.1, 1, 2, 5])\n",
        "gamma = np.array([0.00005, 0.00008, 0.0001, 0.0002, 0.0005])\n",
        "rlt_grid_search = np.zeros((len(C), len(gamma)))\n",
        "# k-Flod Cross Validation and Grid Search\n",
        "k_fold_data = cross_validation(x_train, y_train, k = K)\n",
        "k_x_train = []\n",
        "k_y_train =[]\n",
        "k_x_test = []\n",
        "k_y_test = []\n",
        "for k in range(K):\n",
        "    split_x1 = []\n",
        "    split_y1 = []\n",
        "    split_x2 = []\n",
        "    split_y2 = []\n",
        "    for i in k_fold_data[k][0]:\n",
        "        split_x1.append(x_train[i])\n",
        "        split_y1.append(y_train[i])\n",
        "    for i in k_fold_data[k][1]:\n",
        "        split_x2.append(x_train[i])\n",
        "        split_y2.append(y_train[i])\n",
        "    k_x_train.append(np.array(split_x1))\n",
        "    k_y_train.append(np.array(split_y1))\n",
        "    k_x_test.append(np.array(split_x2))\n",
        "    k_y_test.append(np.array(split_y2))\n",
        "\n",
        "max_score = 0\n",
        "p = 1\n",
        "for i in range(C.shape[0]):\n",
        "    for j in range(gamma.shape[0]):\n",
        "        k_score = []\n",
        "        clf = SVC(C = C[i], gamma = gamma[j], kernel = 'rbf')\n",
        "        for k in range(K):\n",
        "            clf.fit(k_x_train[k], k_y_train[k])\n",
        "            k_score.append(clf.score(k_x_test[k], k_y_test[k]))\n",
        "        k_score = np.array(k_score)\n",
        "        if np.mean(k_score) > max_score:\n",
        "            max_score = np.mean(k_score)\n",
        "            best_c = C[i]\n",
        "            best_gamma = gamma[j]\n",
        "        rlt_grid_search[i][j] = np.mean(k_score)\n",
        "        print(\"Finish {:.2f}%, max score: {:.5f}\".format(p*100/(C.shape[0]*gamma.shape[0]), max_score), end='\\r', flush=True)\n",
        "        p += 1\n",
        "best_parameters=(best_c, best_gamma)"
      ]
    },
    {
      "cell_type": "code",
      "execution_count": 108,
      "metadata": {
        "colab": {
          "base_uri": "https://localhost:8080/"
        },
        "id": "mGTyHMFgrAXd",
        "outputId": "0bcf7ac5-c479-4db5-8a9d-d00b083b9b42"
      },
      "outputs": [
        {
          "name": "stdout",
          "output_type": "stream",
          "text": [
            "(best_c, best_gamma) is  (1.0, 0.0001)\n"
          ]
        }
      ],
      "source": [
        "print(\"(best_c, best_gamma) is \", best_parameters)"
      ]
    },
    {
      "attachments": {},
      "cell_type": "markdown",
      "metadata": {
        "id": "KbPoOy0lrDPJ"
      },
      "source": [
        "# Q3"
      ]
    },
    {
      "cell_type": "code",
      "execution_count": 109,
      "metadata": {
        "id": "ibuxQOEQrEgJ"
      },
      "outputs": [
        {
          "data": {
            "image/png": "[encoded data removed]",
            "text/plain": [
              "<Figure size 480x480 with 2 Axes>"
            ]
          },
          "metadata": {},
          "output_type": "display_data"
        }
      ],
      "source": [
        "# Plot the grid search results of your SVM\n",
        "# TODO HERE\n",
        "yticks = []\n",
        "for c in C:\n",
        "    yticks.append(str(c))\n",
        "xticks = []\n",
        "for g in gamma:\n",
        "    xticks.append(str(g))\n",
        "plt.matshow(rlt_grid_search, cmap = plt.cm.coolwarm, alpha = 0.8)\n",
        "for i in range(len(C)):\n",
        "    for j in range(len(gamma)):\n",
        "        plt.text(x=j, y=i,s =\"{:.3f}\".format(rlt_grid_search[i, j]), va='center', ha='center', size='small')\n",
        "plt.title(\"Hyperparameter Gridsearch\")\n",
        "plt.xticks(np.arange(len(xticks)), xticks)\n",
        "plt.yticks(np.arange(len(yticks)), yticks)\n",
        "plt.xlabel(\"gamma parameter\")\n",
        "plt.ylabel(\"C parameter\")\n",
        "plt.colorbar()\n",
        "plt.show()"
      ]
    },
    {
      "attachments": {},
      "cell_type": "markdown",
      "metadata": {
        "id": "QVA-It-4rM9Q"
      },
      "source": [
        "## Q4"
      ]
    },
    {
      "cell_type": "code",
      "execution_count": 110,
      "metadata": {
        "id": "Zl963HdLrMKg"
      },
      "outputs": [
        {
          "name": "stdout",
          "output_type": "stream",
          "text": [
            "Accuracy score:  0.995\n"
          ]
        }
      ],
      "source": [
        "# Do Not Modify Below\n",
        "\n",
        "best_model = SVC(C=best_parameters[0], gamma=best_parameters[1], kernel='rbf')\n",
        "best_model.fit(x_train, y_train)\n",
        "\n",
        "y_pred = best_model.predict(x_test)\n",
        "\n",
        "print(\"Accuracy score: \", accuracy_score(y_pred, y_test))\n",
        "\n",
        "# If your accuracy here > 0.9 then you will get full credit (20 points)."
      ]
    }
  ],
  "metadata": {
    "colab": {
      "provenance": []
    },
    "kernelspec": {
      "display_name": "Python 3",
      "name": "python3"
    },
    "language_info": {
      "codemirror_mode": {
        "name": "ipython",
        "version": 3
      },
      "file_extension": ".py",
      "mimetype": "text/x-python",
      "name": "python",
      "nbconvert_exporter": "python",
      "pygments_lexer": "ipython3",
      "version": "3.9.13"
    }
  },
  "nbformat": 4,
  "nbformat_minor": 0
}
